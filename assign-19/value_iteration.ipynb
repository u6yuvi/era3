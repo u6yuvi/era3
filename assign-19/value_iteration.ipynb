{
 "cells": [
  {
   "cell_type": "code",
   "execution_count": 1,
   "metadata": {},
   "outputs": [],
   "source": [
    "from value_iteration import GridWorld, print_value_grid"
   ]
  },
  {
   "cell_type": "code",
   "execution_count": 3,
   "metadata": {},
   "outputs": [
    {
     "name": "stdout",
     "output_type": "stream",
     "text": [
      "\n",
      "Converged after 312 iterations\n",
      "\n"
     ]
    }
   ],
   "source": [
    "env = GridWorld(size=4,verbose=False)\n",
    "iterations = env.value_iteration()\n",
    "\n",
    "print(f\"\\nConverged after {iterations} iterations\\n\")\n",
    "\n",
    " "
   ]
  },
  {
   "cell_type": "code",
   "execution_count": 4,
   "metadata": {},
   "outputs": [
    {
     "name": "stdout",
     "output_type": "stream",
     "text": [
      "Final Value Function:\n",
      "[[-59.42553561 -57.4257263  -54.28309529 -51.71183027]\n",
      " [-57.4257263  -54.56881007 -49.71196896 -45.14079147]\n",
      " [-54.28309529 -49.71196896 -40.85530555 -29.99868479]\n",
      " [-51.71183027 -45.14079147 -29.99868479   0.        ]]\n"
     ]
    }
   ],
   "source": [
    "print(\"Final Value Function:\")\n",
    "print_value_grid(env.V, env.size)"
   ]
  }
 ],
 "metadata": {
  "kernelspec": {
   "display_name": "base",
   "language": "python",
   "name": "python3"
  },
  "language_info": {
   "codemirror_mode": {
    "name": "ipython",
    "version": 3
   },
   "file_extension": ".py",
   "mimetype": "text/x-python",
   "name": "python",
   "nbconvert_exporter": "python",
   "pygments_lexer": "ipython3",
   "version": "3.9.13"
  }
 },
 "nbformat": 4,
 "nbformat_minor": 2
}
